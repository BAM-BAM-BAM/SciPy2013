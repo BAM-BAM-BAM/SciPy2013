{
 "metadata": {
  "name": "GDAL write raster"
 },
 "nbformat": 3,
 "nbformat_minor": 0,
 "worksheets": [
  {
   "cells": [
    {
     "cell_type": "markdown",
     "metadata": {},
     "source": [
      "Adapted from the [GDAL tutorial](http://www.gdal.org/gdal_tutorial.html)"
     ]
    },
    {
     "cell_type": "code",
     "collapsed": false,
     "input": [
      "from osgeo import gdal\n",
      "from osgeo import osr\n",
      "import numpy as np"
     ],
     "language": "python",
     "metadata": {},
     "outputs": [],
     "prompt_number": 1
    },
    {
     "cell_type": "code",
     "collapsed": false,
     "input": [
      "format = \"GTiff\"\n",
      "dst_filename = 'zeros.tif'"
     ],
     "language": "python",
     "metadata": {},
     "outputs": [],
     "prompt_number": 2
    },
    {
     "cell_type": "markdown",
     "metadata": {},
     "source": [
      "New files in GDAL supported formats may be created if the format driver supports creation. There are two general techniques for creating files, using `CreateCopy()` and `Create()`. The CreateCopy method involves calling the `CreateCopy()` method on the format driver, and passing in a source dataset that should be copied. The Create method involves calling the `Create()` method on the driver, and then explicitly writing all the metadata, and raster data with separate calls. All drivers that support creating new files support the `CreateCopy()` method, but only a few support the Create() method.\n",
      "\n",
      "To determine if a particular format supports Create or CreateCopy it is possible to check the `DCAP_CREATE` and `DCAP_CREATECOPY` metadata on the format driver object. Ensure that `GDALAllRegister()` has been called before calling `GetDriverByName()`. In this example we fetch a driver, and determine whether it supports `Create()` and/or `CreateCopy()`."
     ]
    },
    {
     "cell_type": "code",
     "collapsed": false,
     "input": [
      "driver = gdal.GetDriverByName(format)\n",
      "metadata = driver.GetMetadata()\n",
      "if metadata.has_key(gdal.DCAP_CREATE) \\\n",
      "and metadata[gdal.DCAP_CREATE] == 'YES':\n",
      "    print 'Driver %s supports Create() method.' % format\n",
      "if metadata.has_key(gdal.DCAP_CREATECOPY) \\\n",
      "and metadata[gdal.DCAP_CREATECOPY] == 'YES':\n",
      "    print 'Driver %s supports CreateCopy() method.' % format"
     ],
     "language": "python",
     "metadata": {},
     "outputs": [
      {
       "output_type": "stream",
       "stream": "stdout",
       "text": [
        "Driver GTiff supports Create() method.\n",
        "Driver GTiff supports CreateCopy() method.\n"
       ]
      }
     ],
     "prompt_number": 3
    },
    {
     "cell_type": "markdown",
     "metadata": {},
     "source": [
      "Once the dataset is successfully created, all appropriate metadata and raster data must be written to the file. What this is will vary according to usage, but a simple case with a projection, geotransform and raster data is covered here."
     ]
    },
    {
     "cell_type": "code",
     "collapsed": false,
     "input": [
      "dst_ds = driver.Create(dst_filename, 512, 512, 1, gdal.GDT_Byte)\n",
      "dst_ds.SetGeoTransform([ 444720, 30, 0, 3751320, 0, -30 ])\n",
      "    \n",
      "srs = osr.SpatialReference()\n",
      "srs.SetUTM(11, 1)\n",
      "srs.SetWellKnownGeogCS('NAD27')\n",
      "dst_ds.SetProjection(srs.ExportToWkt())\n",
      "print srs.ExportToWkt()"
     ],
     "language": "python",
     "metadata": {},
     "outputs": [
      {
       "output_type": "stream",
       "stream": "stdout",
       "text": [
        "PROJCS[\"UTM Zone 11, Northern Hemisphere\",GEOGCS[\"NAD27\",DATUM[\"North_American_Datum_1927\",SPHEROID[\"Clarke 1866\",6378206.4,294.978698213898,AUTHORITY[\"EPSG\",\"7008\"]],AUTHORITY[\"EPSG\",\"6267\"]],PRIMEM[\"Greenwich\",0,AUTHORITY[\"EPSG\",\"8901\"]],UNIT[\"degree\",0.0174532925199433,AUTHORITY[\"EPSG\",\"9108\"]],AUTHORITY[\"EPSG\",\"4267\"]],PROJECTION[\"Transverse_Mercator\"],PARAMETER[\"latitude_of_origin\",0],PARAMETER[\"central_meridian\",-117],PARAMETER[\"scale_factor\",0.9996],PARAMETER[\"false_easting\",500000],PARAMETER[\"false_northing\",0],UNIT[\"Meter\",1]]\n"
       ]
      }
     ],
     "prompt_number": 4
    },
    {
     "cell_type": "code",
     "collapsed": false,
     "input": [
      "raster = np.zeros((512, 512), dtype=np.uint8)    \n",
      "dst_ds.GetRasterBand(1).WriteArray(raster)"
     ],
     "language": "python",
     "metadata": {},
     "outputs": [
      {
       "metadata": {},
       "output_type": "pyout",
       "prompt_number": 5,
       "text": [
        "0"
       ]
      }
     ],
     "prompt_number": 5
    },
    {
     "cell_type": "code",
     "collapsed": false,
     "input": [
      "# Once we're done, close properly the dataset\n",
      "dst_ds = None"
     ],
     "language": "python",
     "metadata": {},
     "outputs": [],
     "prompt_number": 6
    },
    {
     "cell_type": "code",
     "collapsed": false,
     "input": [],
     "language": "python",
     "metadata": {},
     "outputs": []
    }
   ],
   "metadata": {}
  }
 ]
}